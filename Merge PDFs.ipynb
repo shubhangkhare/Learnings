{
  "nbformat": 4,
  "nbformat_minor": 0,
  "metadata": {
    "colab": {
      "provenance": [],
      "authorship_tag": "ABX9TyNGBRM2ySxG91W2sElNbdog",
      "include_colab_link": true
    },
    "kernelspec": {
      "name": "python3",
      "display_name": "Python 3"
    },
    "language_info": {
      "name": "python"
    }
  },
  "cells": [
    {
      "cell_type": "markdown",
      "metadata": {
        "id": "view-in-github",
        "colab_type": "text"
      },
      "source": [
        "<a href=\"https://colab.research.google.com/github/shubhangkhare/Learnings/blob/main/Merge%20PDFs.ipynb\" target=\"_parent\"><img src=\"https://colab.research.google.com/assets/colab-badge.svg\" alt=\"Open In Colab\"/></a>"
      ]
    },
    {
      "cell_type": "code",
      "execution_count": 1,
      "metadata": {
        "colab": {
          "base_uri": "https://localhost:8080/"
        },
        "id": "lGNlcYAdhK4Q",
        "outputId": "17fd0d5e-7137-455d-c586-14ca8c19cfaf"
      },
      "outputs": [
        {
          "output_type": "stream",
          "name": "stdout",
          "text": [
            "Mounted at /content/drive\n"
          ]
        }
      ],
      "source": [
        "from google.colab import drive\n",
        "drive.mount('/content/drive')"
      ]
    },
    {
      "cell_type": "code",
      "source": [
        "!pip install PyPDF2 -q"
      ],
      "metadata": {
        "colab": {
          "base_uri": "https://localhost:8080/"
        },
        "id": "sjZOdccYiiiR",
        "outputId": "4d0a9585-1c02-4458-f020-88beb0e3358b"
      },
      "execution_count": 3,
      "outputs": [
        {
          "output_type": "stream",
          "name": "stdout",
          "text": [
            "\u001b[?25l   \u001b[90m━━━━━━━━━━━━━━━━━━━━━━━━━━━━━━━━━━━━━━━━\u001b[0m \u001b[32m0.0/232.6 kB\u001b[0m \u001b[31m?\u001b[0m eta \u001b[36m-:--:--\u001b[0m\r\u001b[2K   \u001b[91m━━━━━━━━━━━━━━━━━━━━━━━━━━\u001b[0m\u001b[90m╺\u001b[0m\u001b[90m━━━━━━━━━━━━━\u001b[0m \u001b[32m153.6/232.6 kB\u001b[0m \u001b[31m4.3 MB/s\u001b[0m eta \u001b[36m0:00:01\u001b[0m\r\u001b[2K   \u001b[90m━━━━━━━━━━━━━━━━━━━━━━━━━━━━━━━━━━━━━━━━\u001b[0m \u001b[32m232.6/232.6 kB\u001b[0m \u001b[31m4.1 MB/s\u001b[0m eta \u001b[36m0:00:00\u001b[0m\n",
            "\u001b[?25h"
          ]
        }
      ]
    },
    {
      "cell_type": "code",
      "source": [
        "import PyPDF2\n",
        "import os\n",
        "\n",
        "def merge_pdfs(source_dir, destination_dir, file_name = 'merged_pdfs.pdf'):\n",
        "    \"\"\"Merges all PDF files in a source directory into a single PDF in the destination directory.\n",
        "\n",
        "    Args:\n",
        "        source_dir: The source directory containing PDF files.\n",
        "        destination_dir: The destination directory to save the merged PDF.\n",
        "        file_name: The name of the merged PDF file.\n",
        "    \"\"\"\n",
        "\n",
        "    # Get a list of all PDF files in the source directory, sorted alphabetically\n",
        "    pdf_files = [f for f in os.listdir(source_dir) if f.endswith('.pdf')]\n",
        "    pdf_files.sort()\n",
        "\n",
        "    # Create a new PDF merger object\n",
        "    merger = PyPDF2.PdfMerger()\n",
        "\n",
        "    # Append each PDF file to the merger\n",
        "    for pdf_file in pdf_files:\n",
        "        pdf_path = os.path.join(source_dir, pdf_file)\n",
        "        with open(pdf_path, 'rb') as f:\n",
        "            merger.append(PyPDF2.PdfReader(f))\n",
        "\n",
        "    # Write the merged PDF to the destination directory\n",
        "    merged_pdf_path = os.path.join(destination_dir, file_name)\n",
        "    with open(merged_pdf_path, 'wb') as f:\n",
        "        merger.write(f)\n",
        "\n",
        "    print(\"PDFs merged successfully!\")"
      ],
      "metadata": {
        "id": "rgTaYhnThnxe"
      },
      "execution_count": 5,
      "outputs": []
    },
    {
      "cell_type": "code",
      "source": [
        "# Example usage:\n",
        "source_dir = \"/content/drive/MyDrive/AI Notes/ML/Source\"\n",
        "destination_dir = \"/content/drive/MyDrive/AI Notes/ML/Destination\"\n",
        "merge_pdfs(source_dir, destination_dir, 'Complete ML.pdf')"
      ],
      "metadata": {
        "colab": {
          "base_uri": "https://localhost:8080/"
        },
        "id": "Vh0iPwJBh1hz",
        "outputId": "28add7dc-6461-42f9-be5b-da37a8ad12f0"
      },
      "execution_count": 6,
      "outputs": [
        {
          "output_type": "stream",
          "name": "stdout",
          "text": [
            "PDFs merged successfully!\n"
          ]
        }
      ]
    }
  ]
}