{
  "nbformat": 4,
  "nbformat_minor": 0,
  "metadata": {
    "colab": {
      "provenance": [],
      "authorship_tag": "ABX9TyNzGJPhwV2NmklJJUkwFkoW",
      "include_colab_link": true
    },
    "kernelspec": {
      "name": "python3",
      "display_name": "Python 3"
    },
    "language_info": {
      "name": "python"
    }
  },
  "cells": [
    {
      "cell_type": "markdown",
      "metadata": {
        "id": "view-in-github",
        "colab_type": "text"
      },
      "source": [
        "<a href=\"https://colab.research.google.com/github/shubhangkhare/Learnings/blob/main/Merge%20PDFs.ipynb\" target=\"_parent\"><img src=\"https://colab.research.google.com/assets/colab-badge.svg\" alt=\"Open In Colab\"/></a>"
      ]
    },
    {
      "cell_type": "code",
      "execution_count": 1,
      "metadata": {
        "colab": {
          "base_uri": "https://localhost:8080/"
        },
        "id": "lGNlcYAdhK4Q",
        "outputId": "329e9ab0-d339-4ffe-dba8-22572eaf2c26"
      },
      "outputs": [
        {
          "output_type": "stream",
          "name": "stdout",
          "text": [
            "Mounted at /content/drive\n"
          ]
        }
      ],
      "source": [
        "from google.colab import drive\n",
        "drive.mount('/content/drive')"
      ]
    },
    {
      "cell_type": "code",
      "source": [
        "!pip install PyPDF2 -q"
      ],
      "metadata": {
        "colab": {
          "base_uri": "https://localhost:8080/"
        },
        "id": "sjZOdccYiiiR",
        "outputId": "95b4e8bb-c2dc-47f5-ceee-17a42e53b409"
      },
      "execution_count": 2,
      "outputs": [
        {
          "output_type": "stream",
          "name": "stdout",
          "text": [
            "\u001b[?25l   \u001b[90m━━━━━━━━━━━━━━━━━━━━━━━━━━━━━━━━━━━━━━━━\u001b[0m \u001b[32m0.0/232.6 kB\u001b[0m \u001b[31m?\u001b[0m eta \u001b[36m-:--:--\u001b[0m\r\u001b[2K   \u001b[90m━━━━━━━━━━━━━━━━━━━━━━━━━━━━━━━━━━━━━━━━\u001b[0m \u001b[32m232.6/232.6 kB\u001b[0m \u001b[31m9.4 MB/s\u001b[0m eta \u001b[36m0:00:00\u001b[0m\n",
            "\u001b[?25h"
          ]
        }
      ]
    },
    {
      "cell_type": "code",
      "source": [
        "import PyPDF2\n",
        "import os\n",
        "import re\n",
        "\n",
        "def numerical_sort_key(value):\n",
        "    \"\"\"Sort key function that extracts numbers from the string for sorting.\"\"\"\n",
        "    parts = re.split(r'(\\d+)', value)\n",
        "    return [int(part) if part.isdigit() else part for part in parts]\n",
        "\n",
        "def merge_pdfs(source_dir, destination_dir, file_name='merged_pdfs.pdf'):\n",
        "    \"\"\"Merges all PDF files in a source directory into a single PDF in the destination directory.\n",
        "\n",
        "    Args:\n",
        "        source_dir: The source directory containing PDF files.\n",
        "        destination_dir: The destination directory to save the merged PDF.\n",
        "        file_name: The name of the merged PDF file.\n",
        "    \"\"\"\n",
        "\n",
        "    # Get a list of all PDF files in the source directory\n",
        "    pdf_files = [f for f in os.listdir(source_dir) if f.endswith('.pdf')]\n",
        "\n",
        "    # Sort the PDF files using the custom numerical sort key\n",
        "    pdf_files.sort(key=numerical_sort_key)\n",
        "\n",
        "    # Create a new PDF merger object\n",
        "    merger = PyPDF2.PdfMerger()\n",
        "\n",
        "    # Append each PDF file to the merger\n",
        "    for pdf_file in pdf_files:\n",
        "        pdf_path = os.path.join(source_dir, pdf_file)\n",
        "        print(pdf_file)\n",
        "        with open(pdf_path, 'rb') as f:\n",
        "            merger.append(PyPDF2.PdfReader(f))\n",
        "\n",
        "    # Write the merged PDF to the destination directory\n",
        "    merged_pdf_path = os.path.join(destination_dir, file_name)\n",
        "    with open(merged_pdf_path, 'wb') as f:\n",
        "        merger.write(f)\n",
        "\n",
        "    print(\"PDFs merged successfully!\")"
      ],
      "metadata": {
        "id": "Irn7QUwI_XRv"
      },
      "execution_count": 6,
      "outputs": []
    },
    {
      "cell_type": "code",
      "source": [
        "%%time\n",
        "# Example usage:\n",
        "source_dir = \"/content/drive/MyDrive/AI Notes/ML/Source\"\n",
        "destination_dir = \"/content/drive/MyDrive/AI Notes/ML/Destination\"\n",
        "merge_pdfs(source_dir, destination_dir, 'Complete ML.pdf')"
      ],
      "metadata": {
        "colab": {
          "base_uri": "https://localhost:8080/"
        },
        "id": "Vh0iPwJBh1hz",
        "outputId": "45468740-e2b1-46ba-e463-01cd84098d6d"
      },
      "execution_count": 8,
      "outputs": [
        {
          "output_type": "stream",
          "name": "stdout",
          "text": [
            "1 AIVMLVSDLVSDS.pdf\n",
            "2.1 Typesof ML technqiues.pdf\n",
            "2.2 instance based vs model absed learning.pdf\n",
            "2.3a Simple Linear Regression.pdf\n",
            "2.3b Multiple Linear Regression.pdf\n",
            "2.4 Performance Metrics.pdf\n",
            "2.5 Overfitting And Underfitting.pdf\n",
            "2.6 Polynomialregression.pdf\n",
            "2.7 MSE,RMSE,MAE.pdf\n",
            "2.8 linearregressionOLS.pdf\n",
            "3.1 Ridge,Lasso And Elasticnet.pdf\n",
            "3.2 Types Of Cross Validation.pdf\n",
            "4.1 Logistic Regression.pdf\n",
            "4.2 Performance Metrics.pdf\n",
            "4.3 Logisitic OVR.pdf\n",
            "5.1 Naive Baye's.pdf\n",
            "6.1 Decision Tree Classifier .pdf\n",
            "6.2 Decision Tree split For Numerical Features.pdf\n",
            "6.3 Decision Tree Regressor.pdf\n",
            "7.1 RandomForest Regression.pdf\n",
            "7.2 Out of bag evaluation.pdf\n",
            "8.1 Adaboost MAth intuition.pdf\n",
            "9.1 Gradient Boosting Regressions.pdf\n",
            "10.1 Xgboost Classifier.pdf\n",
            "10.2 XgboostRegressor.pdf\n",
            "11.1 PCA.pdf\n",
            "12.1 introduction to unsupervised ML.pdf\n",
            "12.2 Kmeans clustering.pdf\n",
            "12.3 kmeans vss heirarichal.pdf\n",
            "12.4 silhoutteclustering.pdf\n",
            "12.5 DBCAN.pdf\n",
            "13.1 SVR.pdf\n",
            "13.2 SVM Kernels.pdf\n",
            "PDFs merged successfully!\n",
            "CPU times: user 231 ms, sys: 163 ms, total: 394 ms\n",
            "Wall time: 649 ms\n"
          ]
        }
      ]
    }
  ]
}